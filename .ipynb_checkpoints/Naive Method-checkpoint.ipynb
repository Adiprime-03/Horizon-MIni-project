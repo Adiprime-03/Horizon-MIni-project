{
 "cells": [
  {
   "cell_type": "code",
   "execution_count": 1,
   "id": "8ce36563-3d58-445e-b457-77f1838a3feb",
   "metadata": {},
   "outputs": [],
   "source": [
    "from astropy.io import ascii\n",
    "from astropy.table import Table, Column, join\n",
    "import matplotlib.pyplot as plt\n",
    "import numpy as np\n",
    "from astropy.coordinates import SkyCoord\n",
    "from astropy import units as u"
   ]
  },
  {
   "cell_type": "code",
   "execution_count": 3,
   "id": "a8e5f973-cb7f-4723-9854-3d27a1c81931",
   "metadata": {},
   "outputs": [],
   "source": [
    "data1 = ascii.read('Data/data1.nzpcat', data_start = 0, header_start = 0, delimiter = ' ')\n",
    "data2 = ascii.read('Data/data2.cat', data_start = 0, header_start = 0, delimiter = ' ')"
   ]
  },
  {
   "cell_type": "code",
   "execution_count": 5,
   "id": "981eedfa-6f88-4206-8062-c3eaa832d149",
   "metadata": {},
   "outputs": [],
   "source": [
    "ls1 = []\n",
    "ls2 = []\n",
    "li1 = list(data1['id'])\n",
    "lr1 = list(data1['ra'])\n",
    "ld1 = list(data1['dec'])\n",
    "li2 = list(data2['id'])\n",
    "lr2 = list(data2['ra'])\n",
    "ld2 = list(data2['dec'])\n",
    "ls1.append(li1)\n",
    "ls1.append(lr1)\n",
    "ls1.append(ld1)\n",
    "ls2.append(li2)\n",
    "ls2.append(lr2)\n",
    "ls2.append(ld2)"
   ]
  },
  {
   "cell_type": "code",
   "execution_count": null,
   "id": "1623ac30-3061-428c-8b13-2c6be803260f",
   "metadata": {},
   "outputs": [],
   "source": [
    "l = []\n",
    "for i in range(10000):\n",
    "    for j in range(10000):\n",
    "        ls = []\n",
    "        if(ls1[1][i]-ls2[1][j]<0.000001 and ls1[1][i]-ls2[1][j]>-0.000001 and ls1[2][i]-ls2[2][j]<0.000001 and ls1[2][i]-ls2[2][j]>-0.000001):\n",
    "            ls.append(ls1[0][i])\n",
    "            ls.append(ls2[0][j])\n",
    "            l.append(ls)\n",
    "len(l)"
   ]
  },
  {
   "cell_type": "code",
   "execution_count": 13,
   "id": "67f646e0-a1bc-4839-887b-f402a17b1f5b",
   "metadata": {},
   "outputs": [
    {
     "data": {
      "text/plain": [
       "75"
      ]
     },
     "execution_count": 13,
     "metadata": {},
     "output_type": "execute_result"
    }
   ],
   "source": [
    "y1 = []\n",
    "y2 = []\n",
    "for i in range(len(l)):\n",
    "    id1 = int(l[i][0]) - 1\n",
    "    id2 = int(l[i][1]) - 1\n",
    "    if(data1[id1]['f_f160w']<0 or data2[id2]['f_F160W']<0):\n",
    "        l[i] = [0, 0]\n",
    "len(l)"
   ]
  }
 ],
 "metadata": {
  "kernelspec": {
   "display_name": "Python 3 (ipykernel)",
   "language": "python",
   "name": "python3"
  },
  "language_info": {
   "codemirror_mode": {
    "name": "ipython",
    "version": 3
   },
   "file_extension": ".py",
   "mimetype": "text/x-python",
   "name": "python",
   "nbconvert_exporter": "python",
   "pygments_lexer": "ipython3",
   "version": "3.8.10"
  }
 },
 "nbformat": 4,
 "nbformat_minor": 5
}
